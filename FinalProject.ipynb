{
 "cells": [
  {
   "cell_type": "markdown",
   "id": "1bdbc4fb",
   "metadata": {},
   "source": [
    "# Final Project: CHECKPOINT 1. \n",
    "Github link: https://github.com/kashyapkolukula/CMSC320_S25_Project\n",
    "\n",
    "Datasets: \n",
    "* NBA Salaries: Hoops Fortune (2020-2025) https://www.kaggle.com/datasets/omarsobhy14/nba-players-salaries?resource=download\n",
    "* NBA Stats (1947-present) https://www.kaggle.com/datasets/sumitrodatta/nba-aba-baa-stats\n",
    "\n",
    "\n"
   ]
  },
  {
   "cell_type": "markdown",
   "id": "82b58835",
   "metadata": {},
   "source": [
    "# Final Project: CHECKPOINT 2. \n",
    "TODO: Submit a Jupyter notebook file (.ipynb) to Gradescope\n",
    "\n",
    "Directions:\n",
    "* (5 points) Data preprocessing: (a) import, (b) parse (e.g., convert strings to ints), (c) organize   (e.g., set up a database or a pandas DataFrame).\n",
    "* (20 points) Basic data exploration and summary statistics\n",
    "* You must present three conclusions using at least three different statistical methods, including hypothesis testing.\n",
    "* For example: What are the main characteristics of your dataset? How many features and entries are there? Is a feature over-represented? Are features correlated? Are there outliers? Identify the attributes that will affect your choice of primary analysis technique. Etcetera.\n",
    "* For each method, you must have at least one gorgeous plot.\n",
    "\n",
    "\n"
   ]
  },
  {
   "cell_type": "code",
   "execution_count": null,
   "id": "8fd49efe",
   "metadata": {},
   "outputs": [],
   "source": [
    "# downloaded the kaggle zip files\n",
    "# imports:\n",
    "import pandas as pd\n",
    "from datetime import datetime\n",
    "import string\n",
    "# additional libraries:\n",
    "import re\n",
    "import requests\n",
    "import sqlite3\n",
    "conn = sqlite3.connect(\"database.sqlite\")\n",
    "crsr = conn.cursor()\n",
    "from collections import Counter\n",
    "\n",
    "\n",
    "# API URL and headers in case request gets denied.\n",
    "api_url = \"https://www.ngdc.noaa.gov/hazel/hazard-service/api/v1/volcanoes\"\n",
    "\n",
    "headers = {\n",
    "    'accept': '*/*'\n",
    "}"
   ]
  },
  {
   "cell_type": "code",
   "execution_count": null,
   "id": "7217d626",
   "metadata": {},
   "outputs": [],
   "source": []
  }
 ],
 "metadata": {
  "language_info": {
   "name": "python"
  }
 },
 "nbformat": 4,
 "nbformat_minor": 5
}
