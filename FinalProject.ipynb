{
 "cells": [
  {
   "cell_type": "markdown",
   "id": "1bdbc4fb",
   "metadata": {},
   "source": [
    "# Final Project: CHECKPOINT 1. \n",
    "Github link: https://github.com/kashyapkolukula/CMSC320_S25_Project\n",
    "\n",
    "Datasets: \n",
    "* NBA Salaries: Hoops Fortune (2020-2025) https://www.kaggle.com/datasets/omarsobhy14/nba-players-salaries?resource=download\n",
    "* NBA Stats (1947-present) https://www.kaggle.com/datasets/sumitrodatta/nba-aba-baa-stats\n",
    "\n",
    "\n"
   ]
  },
  {
   "cell_type": "markdown",
   "id": "82b58835",
   "metadata": {},
   "source": [
    "# Final Project: CHECKPOINT 2. \n",
    "TODO: Submit a Jupyter notebook file (.ipynb) to Gradescope\n",
    "\n",
    "Directions:\n",
    "* (5 points) Data preprocessing: (a) import, (b) parse (e.g., convert strings to ints), (c) organize   (e.g., set up a database or a pandas DataFrame).\n",
    "* (20 points) Basic data exploration and summary statistics\n",
    "* You must present three conclusions using at least three different statistical methods, including hypothesis testing.\n",
    "* For example: What are the main characteristics of your dataset? How many features and entries are there? Is a feature over-represented? Are features correlated? Are there outliers? Identify the attributes that will affect your choice of primary analysis technique. Etcetera.\n",
    "* For each method, you must have at least one gorgeous plot.\n",
    "\n",
    "\n"
   ]
  },
  {
   "cell_type": "code",
   "execution_count": 1,
   "id": "8fd49efe",
   "metadata": {},
   "outputs": [],
   "source": [
    "'''Kaggle datasts have been downloaded and can be found in \"Data\" folder.'''\n",
    "# imports and libraries (not all may be needed)\n",
    "import pandas as pd\n",
    "from datetime import datetime\n",
    "import string\n",
    "import re\n",
    "import requests\n",
    "import sqlite3\n",
    "conn = sqlite3.connect(\"database.sqlite\")\n",
    "crsr = conn.cursor()\n",
    "from collections import Counter"
   ]
  },
  {
   "cell_type": "code",
   "execution_count": null,
   "id": "7217d626",
   "metadata": {},
   "outputs": [],
   "source": [
    "''' DATA PROCESSING '''\n",
    "# In NBA_Salaries folder\n",
    "salaries_df = pd.read_csv(\"Data/NBA_Salaries_Hoops_Fortune_2020-2025/Nba Player Salaries.csv\")\n",
    "\n",
    "# In NBA_Stats folder\n",
    "df_advanced = pd.read_csv(\"Data/NBA_Stats_1947-present/Advanced.csv\")\n",
    "df_advanced = df_advanced.drop(columns=['birth_year']) # mostly NA (91%)\n",
    "\n",
    "df_all_star_selections = pd.read_csv(\"Data/NBA_Stats_1947-present/All-Star Selections.csv\")\n",
    "\n",
    "df_end_season_teams_voting = pd.read_csv(\"Data/NBA_Stats_1947-present/End of Season Teams (Voting).csv\")\n",
    "\n",
    "df_end_season_teams = pd.read_csv(\"Data/NBA_Stats_1947-present/End of Season Teams.csv\")\n",
    "df_end_season_teams = df_end_season_teams.drop(columns=['birth_year']) # mostly NA (86%)\n",
    "\n",
    "df_opponent_stats_per_100 = pd.read_csv(\"Data/NBA_Stats_1947-present/Opponent Stats Per 100 Poss.csv\")\n",
    "\n",
    "df_opponent_stats_per_game = pd.read_csv(\"Data/NBA_Stats_1947-present/Opponent Stats Per Game.csv\")\n",
    "\n",
    "df_opponent_totals = pd.read_csv(\"Data/NBA_Stats_1947-present/Opponent Totals.csv\")\n",
    "\n",
    "df_per_36 = pd.read_csv(\"Data/NBA_Stats_1947-present/Per 36 Minutes.csv\")\n",
    "df_per_36 = df_per_36.drop(columns=['birth_year']) # mostly NA (91%)\n",
    "\n",
    "df_per_100_poss = pd.read_csv(\"Data/NBA_Stats_1947-present/Per 100 Poss.csv\")\n",
    "df_per_100_poss = df_per_100_poss.drop(columns=['birth_year']) # mostly NA (95%)\n",
    "\n",
    "df_player_award_shares = pd.read_csv(\"Data/NBA_Stats_1947-present/Player Award Shares.csv\")\n",
    "\n",
    "df_player_career_info = pd.read_csv(\"Data/NBA_Stats_1947-present/Player Career Info.csv\")\n",
    "df_player_career_info = df_player_career_info.drop(columns=['birth_year']) # mostly NA (93%)\n",
    "\n",
    "df_player_directory = pd.read_csv(\"Data/NBA_Stats_1947-present/Player Directory.csv\")\n",
    "\n",
    "# Unlikely to be used\n",
    "df_player_per_game = pd.read_csv(\"Data/NBA_Stats_1947-present/Player Per Game.csv\")\n",
    "df_player_per_game = df_player_per_game.drop(columns=['birth_year']) # mostly NA (91%)\n",
    "\n",
    "# Unlikely to be used\n",
    "df_player_play_by_play = pd.read_csv(\"Data/NBA_Stats_1947-present/Player Play By Play.csv\")\n",
    "df_player_play_by_play = df_player_play_by_play.drop(columns=['birth_year']) # mostly NA (99%)\n",
    "\n",
    "df_player_season_info = pd.read_csv(\"Data/NBA_Stats_1947-present/Player Season Info.csv\")\n",
    "df_player_season_info = df_player_season_info.drop(columns=['birth_year']) # mostly NA (91%)\n",
    "\n",
    "df_player_shooting = pd.read_csv(\"Data/NBA_Stats_1947-present/Player Shooting.csv\")\n",
    "df_player_shooting = df_player_shooting.drop(columns=['birth_year']) # mostly NA (99%)\n",
    "\n",
    "df_player_totals = pd.read_csv(\"Data/NBA_Stats_1947-present/Player Totals.csv\")\n",
    "df_player_totals = df_player_totals.drop(columns=['birth_year']) # mostly NA (91%)\n",
    "\n",
    "# Unlikely to be used\n",
    "df_team_abbrev = pd.read_csv(\"Data/NBA_Stats_1947-present/Team Abbrev.csv\")\n",
    "\n",
    "df_team_stats_per_100 = pd.read_csv(\"Data/NBA_Stats_1947-present/Team Stats Per 100 Poss.csv\")\n",
    "\n",
    "df_team_stats_per_game = pd.read_csv(\"Data/NBA_Stats_1947-present/Team Stats Per Game.csv\")\n",
    "\n",
    "df_team_summaries = pd.read_csv(\"Data/NBA_Stats_1947-present/Team Summaries.csv\")\n",
    "\n",
    "df_team_totals = pd.read_csv(\"Data/NBA_Stats_1947-present/Team Totals.csv\")\n"
   ]
  },
  {
   "cell_type": "markdown",
   "id": "d60bcc50",
   "metadata": {},
   "source": [
    "Notes from cleaning up the data:\n",
    "* There are 5266 players total.\n",
    "* Advanced has the most general data\n",
    "* Many columns are repeated (kaggle has better visuals)\n",
    "* Many of the loaded df's can be used to create columns of players with certain characteristics\n",
    "* Dropped birth year since there is age in the \"advanced_df\""
   ]
  },
  {
   "cell_type": "code",
   "execution_count": null,
   "id": "b0ac37e5",
   "metadata": {},
   "outputs": [],
   "source": [
    "''' DATA EXPLORATION AND SUMMARY STATISTICS'''"
   ]
  }
 ],
 "metadata": {
  "kernelspec": {
   "display_name": "Python 3",
   "language": "python",
   "name": "python3"
  },
  "language_info": {
   "codemirror_mode": {
    "name": "ipython",
    "version": 3
   },
   "file_extension": ".py",
   "mimetype": "text/x-python",
   "name": "python",
   "nbconvert_exporter": "python",
   "pygments_lexer": "ipython3",
   "version": "3.10.12"
  }
 },
 "nbformat": 4,
 "nbformat_minor": 5
}
